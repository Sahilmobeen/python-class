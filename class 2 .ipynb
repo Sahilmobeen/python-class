{
 "cells": [
  {
   "cell_type": "code",
   "execution_count": 5,
   "id": "4cfa8238",
   "metadata": {},
   "outputs": [
    {
     "name": "stdout",
     "output_type": "stream",
     "text": [
      "hello world\n",
      "sahil mobeen\n",
      "my father name is mohammed mobeen\n"
     ]
    }
   ],
   "source": [
    "print('hello world')\n",
    "print ('sahil' , 'mobeen')\n",
    "print ('my father name is mohammed mobeen', sep='/n')"
   ]
  },
  {
   "cell_type": "code",
   "execution_count": 7,
   "id": "6ae5b6f6",
   "metadata": {},
   "outputs": [
    {
     "name": "stdout",
     "output_type": "stream",
     "text": [
      "Sahil Mobeen\n",
      "-9\n"
     ]
    }
   ],
   "source": [
    "fname= 'Sahil'\n",
    "lname= 'Mobeen'\n",
    "print(fname,lname,)\n",
    "print(birthdate)\n",
    " "
   ]
  },
  {
   "cell_type": "code",
   "execution_count": null,
   "id": "9c030dc4",
   "metadata": {},
   "outputs": [
    {
     "name": "stdout",
     "output_type": "stream",
     "text": [
      "24\n"
     ]
    }
   ],
   "source": [
    "a=2\n",
    "b=12\n",
    "print (a*b)"
   ]
  }
 ],
 "metadata": {
  "kernelspec": {
   "display_name": "Python 3",
   "language": "python",
   "name": "python3"
  },
  "language_info": {
   "codemirror_mode": {
    "name": "ipython",
    "version": 3
   },
   "file_extension": ".py",
   "mimetype": "text/x-python",
   "name": "python",
   "nbconvert_exporter": "python",
   "pygments_lexer": "ipython3",
   "version": "3.13.7"
  }
 },
 "nbformat": 4,
 "nbformat_minor": 5
}
