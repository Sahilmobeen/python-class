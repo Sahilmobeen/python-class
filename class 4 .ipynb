{
 "cells": [
  {
   "cell_type": "markdown",
   "id": "5e5b99ab",
   "metadata": {},
   "source": [
    "#ipynb stand for interactive python note book\n"
   ]
  },
  {
   "cell_type": "markdown",
   "id": "8bad6ac2",
   "metadata": {},
   "source": [
    "BASIC DATA TYPE :\n",
    "#string \n",
    "#float\n",
    "#integer\n",
    "#boolean\n"
   ]
  },
  {
   "cell_type": "code",
   "execution_count": 3,
   "id": "8f3f7560",
   "metadata": {},
   "outputs": [
    {
     "name": "stdout",
     "output_type": "stream",
     "text": [
      "Sahil Mobeen\n",
      "Sahil\n",
      "Mobeen\n"
     ]
    }
   ],
   "source": [
    "fname= 'Sahil'\n",
    "lname= 'Mobeen'\n",
    "print (fname,lname)\n",
    "print (fname)\n",
    "print (lname)"
   ]
  },
  {
   "cell_type": "markdown",
   "id": "52d06dae",
   "metadata": {},
   "source": [
    "user input using input fuction "
   ]
  },
  {
   "cell_type": "code",
   "execution_count": 6,
   "id": "49806c67",
   "metadata": {},
   "outputs": [],
   "source": [
    "value= input('enter any value')\n",
    "\n"
   ]
  },
  {
   "cell_type": "code",
   "execution_count": 9,
   "id": "02b2213f",
   "metadata": {},
   "outputs": [
    {
     "name": "stdout",
     "output_type": "stream",
     "text": [
      "10\n",
      "<class 'str'>\n"
     ]
    }
   ],
   "source": [
    "print(value)\n",
    "print (type(value))"
   ]
  },
  {
   "cell_type": "code",
   "execution_count": 11,
   "id": "4807d4b9",
   "metadata": {},
   "outputs": [],
   "source": [
    "fname = input(\"enter first name\")\n",
    "lname = input('enter second name')"
   ]
  },
  {
   "cell_type": "code",
   "execution_count": 13,
   "id": "6d0c0984",
   "metadata": {},
   "outputs": [
    {
     "name": "stdout",
     "output_type": "stream",
     "text": [
      "sahil\n",
      "sumair\n"
     ]
    }
   ],
   "source": [
    "print (fname)\n",
    "print (lname)\n"
   ]
  },
  {
   "cell_type": "code",
   "execution_count": 14,
   "id": "f41fb255",
   "metadata": {},
   "outputs": [
    {
     "name": "stdout",
     "output_type": "stream",
     "text": [
      "<class 'str'>\n",
      "<class 'str'>\n"
     ]
    }
   ],
   "source": [
    "print (type(fname))\n",
    "print (type(lname))"
   ]
  },
  {
   "cell_type": "code",
   "execution_count": 17,
   "id": "5fb05835",
   "metadata": {},
   "outputs": [
    {
     "name": "stdout",
     "output_type": "stream",
     "text": [
      "2010\n",
      "<class 'str'>\n"
     ]
    }
   ],
   "source": [
    "num1 = input('first num')\n",
    "print(num1)\n",
    "print (type(num1))"
   ]
  },
  {
   "cell_type": "code",
   "execution_count": 19,
   "id": "59be9a62",
   "metadata": {},
   "outputs": [
    {
     "name": "stdout",
     "output_type": "stream",
     "text": [
      "2010\n",
      "<class 'int'>\n"
     ]
    }
   ],
   "source": [
    "num1 = int(input(\"enter first num\"))\n",
    "print (num1)\n",
    "print(type(num1))"
   ]
  },
  {
   "cell_type": "code",
   "execution_count": 25,
   "id": "d454f3cc",
   "metadata": {},
   "outputs": [
    {
     "name": "stdout",
     "output_type": "stream",
     "text": [
      "2+3\n",
      "5\n",
      "+\n"
     ]
    }
   ],
   "source": [
    "print (\"2+3\")\n",
    "print (2+3) #concatenation\n",
    "print('+') #concatenation"
   ]
  },
  {
   "cell_type": "markdown",
   "id": "93e2df5d",
   "metadata": {},
   "source": [
    "TYPE CASTING "
   ]
  },
  {
   "cell_type": "code",
   "execution_count": 29,
   "id": "54a4b413",
   "metadata": {},
   "outputs": [
    {
     "name": "stdout",
     "output_type": "stream",
     "text": [
      "2+3 <class 'str'>\n"
     ]
    }
   ],
   "source": [
    "num = ('2+3')\n",
    "print (num,type(num))\n"
   ]
  },
  {
   "cell_type": "code",
   "execution_count": 30,
   "id": "aff594d1",
   "metadata": {},
   "outputs": [
    {
     "name": "stdout",
     "output_type": "stream",
     "text": [
      "2 <class 'int'>\n"
     ]
    }
   ],
   "source": [
    "num = int(\"2\")\n",
    "print (num,type(num))"
   ]
  },
  {
   "cell_type": "code",
   "execution_count": 32,
   "id": "a15bc9e2",
   "metadata": {},
   "outputs": [
    {
     "name": "stdout",
     "output_type": "stream",
     "text": [
      "2.03 <class 'str'>\n"
     ]
    }
   ],
   "source": [
    "num = ('2.03')\n",
    "print (num,type(num))"
   ]
  },
  {
   "cell_type": "code",
   "execution_count": 33,
   "id": "b89b35a3",
   "metadata": {},
   "outputs": [
    {
     "name": "stdout",
     "output_type": "stream",
     "text": [
      "2.03 <class 'float'>\n"
     ]
    }
   ],
   "source": [
    "num = float('2.03')\n",
    "print (num , type(num))"
   ]
  },
  {
   "cell_type": "code",
   "execution_count": 35,
   "id": "3946e8c9",
   "metadata": {},
   "outputs": [
    {
     "name": "stdout",
     "output_type": "stream",
     "text": [
      "the value of reult is 20 and type of result is <class 'str'>\n"
     ]
    }
   ],
   "source": [
    "num = 20 \n",
    "result = str(num)\n",
    "print('the value of reult is', result , 'and type of result is', type(result))"
   ]
  },
  {
   "cell_type": "markdown",
   "id": "5b271fd5",
   "metadata": {},
   "source": [
    "BOOLEAN\n"
   ]
  },
  {
   "cell_type": "code",
   "execution_count": 38,
   "id": "b31fd1de",
   "metadata": {},
   "outputs": [
    {
     "name": "stdout",
     "output_type": "stream",
     "text": [
      "False\n",
      "True\n",
      "True\n"
     ]
    }
   ],
   "source": [
    "print (bool(0))\n",
    "print (bool(-39))\n",
    "print (bool(3480))"
   ]
  },
  {
   "cell_type": "markdown",
   "id": "c45413e7",
   "metadata": {},
   "source": [
    "STRING\n"
   ]
  },
  {
   "cell_type": "code",
   "execution_count": 2,
   "id": "098e1ff9",
   "metadata": {},
   "outputs": [
    {
     "name": "stdout",
     "output_type": "stream",
     "text": [
      "the value of resul is  3 and the type of result is  <class 'str'>\n"
     ]
    }
   ],
   "source": [
    "num = \"3\"\n",
    "result = str(num)\n",
    "print ('the value of resul is ', result , 'and the type of result is ', type(result),)"
   ]
  },
  {
   "cell_type": "markdown",
   "id": "5cffd54f",
   "metadata": {},
   "source": [
    "String formating"
   ]
  },
  {
   "cell_type": "code",
   "execution_count": null,
   "id": "7c62d782",
   "metadata": {},
   "outputs": [
    {
     "name": "stdout",
     "output_type": "stream",
     "text": [
      "the value of result is  3 and the type of reult is  <class 'str'>\n",
      "the value of result is 3 and the type of reult is <class 'str'>\n"
     ]
    }
   ],
   "source": [
    "num = 3\n",
    "print ('the value of result is ' , num , ('and the type of reult is ') , type(result))\n",
    "print (f'the value of result is {num} and the type of reult is {type(result)}') #string formating"
   ]
  },
  {
   "cell_type": "code",
   "execution_count": 13,
   "id": "e96d483f",
   "metadata": {},
   "outputs": [
    {
     "name": "stdout",
     "output_type": "stream",
     "text": [
      "i am 15 years old and i study python in smit gulshan campus\n"
     ]
    }
   ],
   "source": [
    "age = 15 \n",
    "course = 'python'\n",
    "campus ='smit'\n",
    "print (f'i am {age} years old and i study {course} in {campus} gulshan campus'  )"
   ]
  },
  {
   "cell_type": "code",
   "execution_count": 15,
   "id": "c566baae",
   "metadata": {},
   "outputs": [
    {
     "name": "stdout",
     "output_type": "stream",
     "text": [
      "this is end of class \n"
     ]
    }
   ],
   "source": [
    "print  ('this is end of class ')"
   ]
  }
 ],
 "metadata": {
  "kernelspec": {
   "display_name": "Python 3",
   "language": "python",
   "name": "python3"
  },
  "language_info": {
   "codemirror_mode": {
    "name": "ipython",
    "version": 3
   },
   "file_extension": ".py",
   "mimetype": "text/x-python",
   "name": "python",
   "nbconvert_exporter": "python",
   "pygments_lexer": "ipython3",
   "version": "3.13.7"
  }
 },
 "nbformat": 4,
 "nbformat_minor": 5
}
