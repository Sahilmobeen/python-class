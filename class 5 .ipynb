{
 "cells": [
  {
   "cell_type": "markdown",
   "id": "7a395c3f",
   "metadata": {},
   "source": [
    "string methods"
   ]
  },
  {
   "cell_type": "markdown",
   "id": "78cc8ddb",
   "metadata": {},
   "source": [
    "F - string\n",
    "\n"
   ]
  },
  {
   "cell_type": "code",
   "execution_count": 2,
   "id": "170b3f5b",
   "metadata": {},
   "outputs": [
    {
     "name": "stdout",
     "output_type": "stream",
     "text": [
      "I am Sahil M.Mobeen wants to enroll in this course \"Data science and AI\"  my Email is hafizsahilmobeen@gmail.com\n"
     ]
    }
   ],
   "source": [
    "fname = input('enter your first name')\n",
    "lname = input('enter your last name')\n",
    "course = input('enter your course name')\n",
    "Email = input ('enter your Email name')\n",
    "\n",
    "print (f'I am {fname} {lname} wants to enroll in this course \"{course}\"  my Email is {Email}')\n"
   ]
  },
  {
   "cell_type": "code",
   "execution_count": 4,
   "id": "be613132",
   "metadata": {},
   "outputs": [
    {
     "name": "stdout",
     "output_type": "stream",
     "text": [
      "<class 'str'>\n"
     ]
    }
   ],
   "source": [
    "fname = 'chahat'\n",
    "print (type(fname))\n"
   ]
  },
  {
   "cell_type": "code",
   "execution_count": 5,
   "id": "e2425639",
   "metadata": {},
   "outputs": [],
   "source": [
    "name = 'chahat fateh ali khan'"
   ]
  },
  {
   "cell_type": "markdown",
   "id": "c0fd2e41",
   "metadata": {},
   "source": [
    "upper are function \n",
    "for capital letter (upper) that only string"
   ]
  },
  {
   "cell_type": "code",
   "execution_count": 7,
   "id": "610623be",
   "metadata": {},
   "outputs": [
    {
     "data": {
      "text/plain": [
       "'CHAHAT FATEH ALI KHAN'"
      ]
     },
     "execution_count": 7,
     "metadata": {},
     "output_type": "execute_result"
    }
   ],
   "source": [
    "name.upper ()"
   ]
  },
  {
   "cell_type": "code",
   "execution_count": 8,
   "id": "1633d6c5",
   "metadata": {},
   "outputs": [
    {
     "name": "stdout",
     "output_type": "stream",
     "text": [
      "CHAHAT FATEH ALI KHAN\n"
     ]
    }
   ],
   "source": [
    "print (name.upper())"
   ]
  },
  {
   "cell_type": "markdown",
   "id": "ee3e1e20",
   "metadata": {},
   "source": [
    "# method are those functions that belong to certain class \n",
    "print "
   ]
  }
 ],
 "metadata": {
  "kernelspec": {
   "display_name": "Python 3",
   "language": "python",
   "name": "python3"
  },
  "language_info": {
   "codemirror_mode": {
    "name": "ipython",
    "version": 3
   },
   "file_extension": ".py",
   "mimetype": "text/x-python",
   "name": "python",
   "nbconvert_exporter": "python",
   "pygments_lexer": "ipython3",
   "version": "3.13.7"
  }
 },
 "nbformat": 4,
 "nbformat_minor": 5
}
