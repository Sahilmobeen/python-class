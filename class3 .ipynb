{
 "cells": [
  {
   "cell_type": "markdown",
   "id": "3008b122",
   "metadata": {},
   "source": [
    "# variables"
   ]
  },
  {
   "cell_type": "code",
   "execution_count": 24,
   "id": "5e94250f",
   "metadata": {},
   "outputs": [
    {
     "name": "stdout",
     "output_type": "stream",
     "text": [
      "4\n",
      "5\n",
      "9\n"
     ]
    }
   ],
   "source": [
    "num1= 4\n",
    "num2= 5\n",
    "print (num1)\n",
    "print(num2)\n",
    "print (num1 + num2)"
   ]
  },
  {
   "cell_type": "code",
   "execution_count": 25,
   "id": "f79dbef4",
   "metadata": {},
   "outputs": [
    {
     "name": "stdout",
     "output_type": "stream",
     "text": [
      "Sahil Mobeen\n"
     ]
    }
   ],
   "source": [
    "fname = 'Sahil'\n",
    "lname = 'Mobeen'\n",
    "print (fname , lname)\n"
   ]
  },
  {
   "cell_type": "code",
   "execution_count": 26,
   "id": "166c1496",
   "metadata": {},
   "outputs": [
    {
     "name": "stdout",
     "output_type": "stream",
     "text": [
      "<class 'str'>\n"
     ]
    }
   ],
   "source": [
    "print (type(fname))\n"
   ]
  },
  {
   "cell_type": "code",
   "execution_count": 27,
   "id": "03c63921",
   "metadata": {},
   "outputs": [
    {
     "name": "stdout",
     "output_type": "stream",
     "text": [
      "<class 'str'>\n"
     ]
    }
   ],
   "source": [
    "print(type(lname))"
   ]
  },
  {
   "cell_type": "code",
   "execution_count": 28,
   "id": "25705685",
   "metadata": {},
   "outputs": [
    {
     "name": "stdout",
     "output_type": "stream",
     "text": [
      "2785633615232\n"
     ]
    }
   ],
   "source": [
    "print(id(fname))"
   ]
  },
  {
   "cell_type": "code",
   "execution_count": 29,
   "id": "106af3f9",
   "metadata": {},
   "outputs": [
    {
     "name": "stdout",
     "output_type": "stream",
     "text": [
      "2785633603856\n"
     ]
    }
   ],
   "source": [
    "print(id(lname))"
   ]
  },
  {
   "cell_type": "code",
   "execution_count": 30,
   "id": "c250d33b",
   "metadata": {},
   "outputs": [
    {
     "name": "stdout",
     "output_type": "stream",
     "text": [
      "Sahil\n"
     ]
    }
   ],
   "source": [
    "print(fname)"
   ]
  },
  {
   "cell_type": "code",
   "execution_count": 31,
   "id": "e99d5d95",
   "metadata": {},
   "outputs": [],
   "source": [
    "fname=\"sumair\"\n"
   ]
  },
  {
   "cell_type": "code",
   "execution_count": 33,
   "id": "c6ecd422",
   "metadata": {},
   "outputs": [
    {
     "data": {
      "text/plain": [
       "2785629881616"
      ]
     },
     "execution_count": 33,
     "metadata": {},
     "output_type": "execute_result"
    }
   ],
   "source": [
    "id(fname)"
   ]
  }
 ],
 "metadata": {
  "kernelspec": {
   "display_name": "Python 3",
   "language": "python",
   "name": "python3"
  },
  "language_info": {
   "codemirror_mode": {
    "name": "ipython",
    "version": 3
   },
   "file_extension": ".py",
   "mimetype": "text/x-python",
   "name": "python",
   "nbconvert_exporter": "python",
   "pygments_lexer": "ipython3",
   "version": "3.13.7"
  }
 },
 "nbformat": 4,
 "nbformat_minor": 5
}
